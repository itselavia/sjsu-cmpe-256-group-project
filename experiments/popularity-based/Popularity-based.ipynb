{
 "cells": [
  {
   "cell_type": "markdown",
   "metadata": {},
   "source": [
    "# Popularity Based recommendation using PySpark\n"
   ]
  },
  {
   "cell_type": "markdown",
   "metadata": {},
   "source": [
    "## Step 1:\n",
    "* Import the pyspark libary and create spark session\n",
    "* Import other required libraries"
   ]
  },
  {
   "cell_type": "code",
   "execution_count": null,
   "metadata": {},
   "outputs": [],
   "source": [
    "import findspark\n",
    "findspark.init()\n",
    "import pyspark\n",
    "from pyspark.sql import SparkSession\n",
    "from pyspark.sql.types import *"
   ]
  },
  {
   "cell_type": "code",
   "execution_count": 2,
   "metadata": {},
   "outputs": [],
   "source": [
    "######## Spark session is a unified entry point of a spark application  #############\n",
    "spark = SparkSession \\\n",
    "    .builder \\\n",
    "    .appName('spark-popularity') \\\n",
    "    .config(\"configuration_key\", \"configuration_value\") \\\n",
    "    .enableHiveSupport() \\\n",
    "    .getOrCreate()\n",
    "\n",
    "sc = spark.sparkContext"
   ]
  },
  {
   "cell_type": "markdown",
   "metadata": {},
   "source": [
    "## Step 2: \n",
    "* Load the original source data into Spark RDD\n",
    "* Analyze the data"
   ]
  },
  {
   "cell_type": "code",
   "execution_count": 12,
   "metadata": {},
   "outputs": [
    {
     "data": {
      "text/plain": [
       "DataFrame[_corrupt_record: string, items: array<struct<item_id:string,item_name:string,playtime_2weeks:bigint,playtime_forever:bigint>>, items_count: bigint, steam_id: string, user_id: string, user_url: string]"
      ]
     },
     "execution_count": 12,
     "metadata": {},
     "output_type": "execute_result"
    }
   ],
   "source": [
    "#Reading JSON file using spark context\n",
    "gamesDF = spark.read.json(\"../../source_data/australian_users_items_cleaned.json\")\n",
    "gamesDF"
   ]
  },
  {
   "cell_type": "code",
   "execution_count": 6,
   "metadata": {},
   "outputs": [
    {
     "name": "stdout",
     "output_type": "stream",
     "text": [
      "root\n",
      " |-- _corrupt_record: string (nullable = true)\n",
      " |-- items: array (nullable = true)\n",
      " |    |-- element: struct (containsNull = true)\n",
      " |    |    |-- item_id: string (nullable = true)\n",
      " |    |    |-- item_name: string (nullable = true)\n",
      " |    |    |-- playtime_2weeks: long (nullable = true)\n",
      " |    |    |-- playtime_forever: long (nullable = true)\n",
      " |-- items_count: long (nullable = true)\n",
      " |-- steam_id: string (nullable = true)\n",
      " |-- user_id: string (nullable = true)\n",
      " |-- user_url: string (nullable = true)\n",
      "\n"
     ]
    }
   ],
   "source": [
    "gamesDF.printSchema()\n",
    "#The JSON is nested hence we need to explode the items column to get data for each game"
   ]
  },
  {
   "cell_type": "markdown",
   "metadata": {},
   "source": [
    "## Step3:\n",
    "* Exploding the complex JSON into normalized table to run SQL"
   ]
  },
  {
   "cell_type": "code",
   "execution_count": 25,
   "metadata": {},
   "outputs": [
    {
     "name": "stdout",
     "output_type": "stream",
     "text": [
      "+--------------------------------------------------+\n",
      "|games                                             |\n",
      "+--------------------------------------------------+\n",
      "|[10, Counter-Strike, 0, 6]                        |\n",
      "|[20, Team Fortress Classic, 0, 0]                 |\n",
      "|[30, Day of Defeat, 0, 7]                         |\n",
      "|[40, Deathmatch Classic, 0, 0]                    |\n",
      "|[50, Half-Life: Opposing Force, 0, 0]             |\n",
      "|[60, Ricochet, 0, 0]                              |\n",
      "|[70, Half-Life, 0, 0]                             |\n",
      "|[130, Half-Life: Blue Shift, 0, 0]                |\n",
      "|[300, Day of Defeat: Source, 0, 4733]             |\n",
      "|[240, Counter-Strike: Source, 0, 1853]            |\n",
      "|[3830, Psychonauts, 0, 333]                       |\n",
      "|[2630, Call of Duty 2, 0, 75]                     |\n",
      "|[3900, Sid Meier's Civilization IV, 0, 338]       |\n",
      "|[34440, Sid Meier's Civilization IV, 0, 0]        |\n",
      "|[3920, Sid Meier's Pirates!, 0, 2]                |\n",
      "|[6400, Joint Task Force, 0, 286]                  |\n",
      "|[6910, Deus Ex: Game of the Year Edition, 0, 2685]|\n",
      "|[7670, BioShock, 0, 633]                          |\n",
      "|[409710, BioShock Remastered, 0, 0]               |\n",
      "|[220, Half-Life 2, 0, 696]                        |\n",
      "+--------------------------------------------------+\n",
      "only showing top 20 rows\n",
      "\n",
      "root\n",
      " |-- games: struct (nullable = true)\n",
      " |    |-- item_id: string (nullable = true)\n",
      " |    |-- item_name: string (nullable = true)\n",
      " |    |-- playtime_2weeks: long (nullable = true)\n",
      " |    |-- playtime_forever: long (nullable = true)\n",
      "\n"
     ]
    }
   ],
   "source": [
    "#Exploding the items array and renaming it to games\n",
    "from pyspark.sql.functions import explode\n",
    "gamesExploded = gamesDF.select(explode(\"items\").alias(\"games\"))\n",
    "gamesExploded.show(truncate=False)\n",
    "gamesExploded.printSchema()"
   ]
  },
  {
   "cell_type": "code",
   "execution_count": 45,
   "metadata": {},
   "outputs": [],
   "source": [
    "#Even after exploding the items column the data is still in struct so we need to user pyspark functions to\n",
    "# create columns for each struct value\n",
    "from pyspark.sql import functions as F\n",
    "\n",
    "finalGamesDF = gamesExploded.select(F.col(\"games.item_id\").alias(\"item_id\"), \n",
    "                     F.col(\"games.item_name\").alias(\"item_name\"),\n",
    "                     F.col(\"games.playtime_2weeks\").alias(\"playtime_2weeks\"),\n",
    "                     F.col(\"games.playtime_forever\").alias(\"playtime_forever\"))"
   ]
  },
  {
   "cell_type": "code",
   "execution_count": 50,
   "metadata": {},
   "outputs": [
    {
     "name": "stdout",
     "output_type": "stream",
     "text": [
      "+-------+---------------------------------+---------------+----------------+\n",
      "|item_id|item_name                        |playtime_2weeks|playtime_forever|\n",
      "+-------+---------------------------------+---------------+----------------+\n",
      "|10     |Counter-Strike                   |0              |6               |\n",
      "|20     |Team Fortress Classic            |0              |0               |\n",
      "|30     |Day of Defeat                    |0              |7               |\n",
      "|40     |Deathmatch Classic               |0              |0               |\n",
      "|50     |Half-Life: Opposing Force        |0              |0               |\n",
      "|60     |Ricochet                         |0              |0               |\n",
      "|70     |Half-Life                        |0              |0               |\n",
      "|130    |Half-Life: Blue Shift            |0              |0               |\n",
      "|300    |Day of Defeat: Source            |0              |4733            |\n",
      "|240    |Counter-Strike: Source           |0              |1853            |\n",
      "|3830   |Psychonauts                      |0              |333             |\n",
      "|2630   |Call of Duty 2                   |0              |75              |\n",
      "|3900   |Sid Meier's Civilization IV      |0              |338             |\n",
      "|34440  |Sid Meier's Civilization IV      |0              |0               |\n",
      "|3920   |Sid Meier's Pirates!             |0              |2               |\n",
      "|6400   |Joint Task Force                 |0              |286             |\n",
      "|6910   |Deus Ex: Game of the Year Edition|0              |2685            |\n",
      "|7670   |BioShock                         |0              |633             |\n",
      "|409710 |BioShock Remastered              |0              |0               |\n",
      "|220    |Half-Life 2                      |0              |696             |\n",
      "+-------+---------------------------------+---------------+----------------+\n",
      "only showing top 20 rows\n",
      "\n"
     ]
    }
   ],
   "source": [
    "#Creating temporary table to \n",
    "finalGamesDF.registerTempTable(\"finalGamesDF\")\n",
    "spark.sql(\"select * from finalGamesDF\").show(truncate=False)"
   ]
  },
  {
   "cell_type": "markdown",
   "metadata": {},
   "source": [
    "## Step 4:\n",
    "* Running spark SQL to find out top 20 most played games "
   ]
  },
  {
   "cell_type": "code",
   "execution_count": 49,
   "metadata": {},
   "outputs": [
    {
     "name": "stdout",
     "output_type": "stream",
     "text": [
      "+----------------------------------------+-------------+\n",
      "|item_name                               |totalPlayTime|\n",
      "+----------------------------------------+-------------+\n",
      "|Counter-Strike: Global Offensive        |785040461    |\n",
      "|Garry's Mod                             |448342370    |\n",
      "|Terraria                                |154941260    |\n",
      "|The Elder Scrolls V: Skyrim             |136652734    |\n",
      "|Warframe                                |123992479    |\n",
      "|Counter-Strike: Source                  |112604138    |\n",
      "|Left 4 Dead 2                           |102182773    |\n",
      "|PAYDAY 2                                |99755652     |\n",
      "|Sid Meier's Civilization V              |82375981     |\n",
      "|Rust                                    |81117861     |\n",
      "|Borderlands 2                           |80421808     |\n",
      "|Arma 3                                  |67327273     |\n",
      "|Grand Theft Auto V                      |59667071     |\n",
      "|Unturned                                |50953605     |\n",
      "|Fallout 4                               |45244297     |\n",
      "|War Thunder                             |43565307     |\n",
      "|PlanetSide 2                            |41441669     |\n",
      "|Arma 2: Operation Arrowhead             |40464456     |\n",
      "|Mount & Blade: Warband                  |39609531     |\n",
      "|Call of Duty: Black Ops II - Multiplayer|38639035     |\n",
      "+----------------------------------------+-------------+\n",
      "only showing top 20 rows\n",
      "\n"
     ]
    }
   ],
   "source": [
    "#Spark query to find top 20 played games as initial suggestion for the new user\n",
    "spark.sql(\"\"\"select item_name , sum(playtime_forever) as totalPlayTime from finalGamesDF \n",
    "          group by item_name order by totalPlayTime desc\"\"\").show(truncate=False)"
   ]
  },
  {
   "cell_type": "markdown",
   "metadata": {},
   "source": [
    "## Conclusion: \n",
    "\n",
    "Using popularity based recommendation is a very simple yet powerful idea. Popularity-based implementation is critical for new users as many times recommender systems such as collaborative filtering, content-based filtering might face cold start problems. This implementation will always be able to suggest most popular games to the user irrespective of the user data collected by the system. For future implentation these popular games can be divided into different genere for genere wise recommendation. "
   ]
  }
 ],
 "metadata": {
  "kernelspec": {
   "display_name": "Python 3",
   "language": "python",
   "name": "python3"
  },
  "language_info": {
   "codemirror_mode": {
    "name": "ipython",
    "version": 3
   },
   "file_extension": ".py",
   "mimetype": "text/x-python",
   "name": "python",
   "nbconvert_exporter": "python",
   "pygments_lexer": "ipython3",
   "version": "3.7.3"
  }
 },
 "nbformat": 4,
 "nbformat_minor": 2
}
